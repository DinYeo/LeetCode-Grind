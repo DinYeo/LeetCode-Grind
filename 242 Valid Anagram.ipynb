{
 "cells": [
  {
   "cell_type": "markdown",
   "id": "b1e54cdc",
   "metadata": {},
   "source": [
    "Cell below is the Brute Force Method\n",
    "-> Essentially sorting each of the variable in the order of ASCII and returning them if it matches, solves the problem but it is not efficient\n",
    "-> Considerations for improvements, using a Hashmap or Bucket"
   ]
  },
  {
   "cell_type": "code",
   "execution_count": null,
   "id": "b8b2b34d",
   "metadata": {},
   "outputs": [
    {
     "name": "stdout",
     "output_type": "stream",
     "text": [
      "False\n"
     ]
    }
   ],
   "source": [
    "x = \"eat shit\"\n",
    "y = \"Hello there\"\n",
    "\n",
    "x_sorted = sorted(x)\n",
    "y_sorted = sorted(y)\n",
    "\n",
    "if x_sorted == y_sorted:\n",
    "    print(\"True\")\n",
    "else:\n",
    "    print(\"False\")"
   ]
  },
  {
   "cell_type": "code",
   "execution_count": 5,
   "id": "40997d8b",
   "metadata": {},
   "outputs": [
    {
     "data": {
      "text/plain": [
       "[' ', 'a', 'e', 'h', 'i', 's', 't', 't']"
      ]
     },
     "execution_count": 5,
     "metadata": {},
     "output_type": "execute_result"
    }
   ],
   "source": [
    "x_sorted"
   ]
  },
  {
   "cell_type": "code",
   "execution_count": 6,
   "id": "138d5a20",
   "metadata": {},
   "outputs": [
    {
     "data": {
      "text/plain": [
       "[' ', 'H', 'e', 'e', 'e', 'h', 'l', 'l', 'o', 'r', 't']"
      ]
     },
     "execution_count": 6,
     "metadata": {},
     "output_type": "execute_result"
    }
   ],
   "source": [
    "y_sorted"
   ]
  },
  {
   "cell_type": "code",
   "execution_count": null,
   "id": "13885cd6",
   "metadata": {},
   "outputs": [
    {
     "data": {
      "text/plain": [
       "25"
      ]
     },
     "execution_count": 17,
     "metadata": {},
     "output_type": "execute_result"
    }
   ],
   "source": [
    "# Alphabetical Order follows ASCII, a starts from 97, total of 26 characters in the alphabet\n",
    "ord(\"a\")\n",
    "len(range((ord(\"z\")-ord(\"a\")))) # result is 25 because a counts from 0"
   ]
  },
  {
   "cell_type": "code",
   "execution_count": null,
   "id": "3ee356b6",
   "metadata": {},
   "outputs": [
    {
     "data": {
      "text/plain": [
       "[0, 0, 0, 0, 0, 0, 0, 0, 0, 0, 0, 0, 0, 0, 0, 0, 0, 0, 0, 0, 0, 0, 0, 0, 0, 0]"
      ]
     },
     "execution_count": 19,
     "metadata": {},
     "output_type": "execute_result"
    }
   ],
   "source": [
    "bucket = [0] * 26\n",
    "bucket # Below is the diagram of the \"bucket\", assume each 0 represents 1 letter in the alphabet"
   ]
  },
  {
   "cell_type": "markdown",
   "id": "534a9e71",
   "metadata": {},
   "source": [
    "Above is the explanation, code won't be able to run fully here since leetcode provides the strings, but here is the thought process\n",
    "1. Store the string as a variable\n",
    "2. Depending on situation, but since the problem wants to compare the strings\n",
    "    -> Get rid of spaces using replacement\n",
    "    -> Change string to lower casing\n",
    "3. For loop and ord to \"store\" string into bucket using +=1, -=1 for 2nd string\n",
    "4. Check that the bucket == 0"
   ]
  }
 ],
 "metadata": {
  "kernelspec": {
   "display_name": ".venv",
   "language": "python",
   "name": "python3"
  },
  "language_info": {
   "codemirror_mode": {
    "name": "ipython",
    "version": 3
   },
   "file_extension": ".py",
   "mimetype": "text/x-python",
   "name": "python",
   "nbconvert_exporter": "python",
   "pygments_lexer": "ipython3",
   "version": "3.12.10"
  }
 },
 "nbformat": 4,
 "nbformat_minor": 5
}
